{
 "cells": [
  {
   "cell_type": "code",
   "execution_count": 79,
   "metadata": {},
   "outputs": [],
   "source": [
    "from bs4 import BeautifulSoup\n",
    "import requests\n",
    "import csv\n",
    "import pandas as pd"
   ]
  },
  {
   "cell_type": "code",
   "execution_count": null,
   "metadata": {},
   "outputs": [],
   "source": [
    "url = 'https://thegreatestbooks.org/?page='\n",
    "\n",
    "list_data = []\n",
    "for page in range(1,55):\n",
    "    res  = requests.get(url + str(page))\n",
    "    soup = BeautifulSoup(res.text, 'html.parser')\n",
    "\n",
    "    items = soup.find_all('li', {'class':'item pb-3 pt-3 border-bottom'})\n",
    "    for item in items:\n",
    "        item_dic = {}\n",
    "        item_dic['judul']  = item.a.text\n",
    "        item_dic['author'] = item.a.find_next_siblings('a')[0].text\n",
    "        item_dic['image']  = item.find('div',{'class':'pull-left mr-3'}).img['src']\n",
    "        try:\n",
    "            item_dic['amazon_url'] = item.find('div',{'class':'pull-left mr-3'}).div.a['href']\n",
    "        except:\n",
    "            item_dic['amazon_url'] = ''\n",
    "        list_data.append(item_dic)"
   ]
  },
  {
   "cell_type": "code",
   "execution_count": null,
   "metadata": {},
   "outputs": [],
   "source": [
    "df = pd.DataFrame(list_data)\n",
    "df.head()"
   ]
  },
  {
   "cell_type": "code",
   "execution_count": null,
   "metadata": {},
   "outputs": [],
   "source": [
    "df.to_csv('scrap.csv', index=False)"
   ]
  }
 ],
 "metadata": {
  "kernelspec": {
   "display_name": "Python 3",
   "language": "python",
   "name": "python3"
  },
  "language_info": {
   "codemirror_mode": {
    "name": "ipython",
    "version": 3
   },
   "file_extension": ".py",
   "mimetype": "text/x-python",
   "name": "python",
   "nbconvert_exporter": "python",
   "pygments_lexer": "ipython3",
   "version": "3.8.2"
  }
 },
 "nbformat": 4,
 "nbformat_minor": 4
}
